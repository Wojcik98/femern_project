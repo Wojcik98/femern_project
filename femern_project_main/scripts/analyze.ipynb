{
 "cells": [
  {
   "cell_type": "code",
   "execution_count": 1,
   "metadata": {},
   "outputs": [
    {
     "name": "stdout",
     "output_type": "stream",
     "text": [
      "Jupyter environment detected. Enabling Open3D WebVisualizer.\n",
      "[Open3D INFO] WebRTC GUI backend enabled.\n",
      "[Open3D INFO] WebRTCWindowSystem: HTTP handshake server disabled.\n"
     ]
    }
   ],
   "source": [
    "import open3d as o3d\n",
    "import numpy as np\n",
    "\n",
    "from skspatial.objects import Plane, Points\n",
    "from skspatial.plotting import plot_3d\n",
    "import matplotlib.pyplot as plt\n",
    "import matplotlib\n",
    "import time\n",
    "\n",
    "import os"
   ]
  },
  {
   "cell_type": "code",
   "execution_count": 2,
   "metadata": {},
   "outputs": [],
   "source": [
    "pcds: list[o3d.geometry.PointCloud] = []\n",
    "plys_dir = 'road_long_towards_plys/'\n",
    "\n",
    "for fn in os.listdir(plys_dir):\n",
    "    pcds.append(o3d.io.read_point_cloud(plys_dir + fn))"
   ]
  },
  {
   "cell_type": "code",
   "execution_count": 3,
   "metadata": {},
   "outputs": [],
   "source": [
    "inliners = []\n",
    "inliners_colors = []\n",
    "outliners = []\n",
    "outliners_err = []\n",
    "\n",
    "for i, pcd in enumerate(pcds):\n",
    "    pcd, _ = pcd.remove_statistical_outlier(nb_neighbors=10, std_ratio=1.0)\n",
    "\n",
    "    plane_model, inliers = pcd.segment_plane(distance_threshold=0.1,\n",
    "                                             ransac_n=3,\n",
    "                                             num_iterations=1000)\n",
    "\n",
    "    plane_model_err, inliers_err = pcd.segment_plane(distance_threshold=0.15,\n",
    "                                             ransac_n=3,\n",
    "                                             num_iterations=1000)\n",
    "\n",
    "    inlier_cloud = pcd.select_by_index(inliers)\n",
    "    outlier_cloud = pcd.select_by_index(inliers, invert=True)\n",
    "    outlier_cloud_err = pcd.select_by_index(inliers_err, invert=True)\n",
    "    outlier_cloud.paint_uniform_color([0.8, 0.5, 0])\n",
    "    outlier_cloud_err.paint_uniform_color([1, 0, 0])\n",
    "\n",
    "    inliners.append(np.asarray(inlier_cloud.points))\n",
    "    inliners_colors.append(np.asarray(inlier_cloud.colors))\n",
    "    outliners.append(np.asarray(outlier_cloud.points))\n",
    "    outliners_err.append(np.asarray(outlier_cloud_err.points))\n",
    "\n",
    "    print(f'Finished {i+1}/{len(pcds)}')\n",
    "\n",
    "inliners = np.concatenate(inliners)\n",
    "inliners_colors = np.concatenate(inliners_colors)\n",
    "outliners = np.concatenate(outliners)\n",
    "outliners_err = np.concatenate(outliners_err)"
   ]
  },
  {
   "cell_type": "code",
   "execution_count": 4,
   "outputs": [
    {
     "data": {
      "text/plain": "PointCloud with 104413 points."
     },
     "execution_count": 4,
     "metadata": {},
     "output_type": "execute_result"
    }
   ],
   "source": [
    "inliners_pcd = o3d.geometry.PointCloud()\n",
    "inliners_pcd.points = o3d.utility.Vector3dVector(inliners)\n",
    "inliners_pcd.colors = o3d.utility.Vector3dVector(inliners_colors)\n",
    "\n",
    "outliners_pcd = o3d.geometry.PointCloud()\n",
    "outliners_pcd.points = o3d.utility.Vector3dVector(outliners)\n",
    "outliners_pcd.paint_uniform_color([0.8, 0.5, 0.0])\n",
    "\n",
    "outliners_err_pcd = o3d.geometry.PointCloud()\n",
    "outliners_err_pcd.points = o3d.utility.Vector3dVector(outliners_err)\n",
    "outliners_err_pcd.paint_uniform_color([1.0, 0.0, 0.0])"
   ],
   "metadata": {
    "collapsed": false
   }
  },
  {
   "cell_type": "code",
   "execution_count": 5,
   "outputs": [],
   "source": [
    "o3d.visualization.draw_geometries([inliners_pcd, outliners_pcd, outliners_err_pcd])"
   ],
   "metadata": {
    "collapsed": false
   }
  },
  {
   "cell_type": "code",
   "execution_count": 6,
   "outputs": [],
   "source": [
    "def flatten(pcd: o3d.geometry.PointCloud) -> o3d.geometry.PointCloud:\n",
    "    pts = np.asarray(pcd.points).copy()\n",
    "    colors = np.asarray(pcd.colors).copy()\n",
    "    for pt in pts:\n",
    "        pt[2] = 0.0\n",
    "\n",
    "    new_pcd = o3d.geometry.PointCloud()\n",
    "    new_pcd.points = o3d.utility.Vector3dVector(pts)\n",
    "    new_pcd.colors = o3d.utility.Vector3dVector(colors)\n",
    "\n",
    "    return new_pcd\n",
    "\n",
    "flat_inliners = flatten(inliners_pcd)\n",
    "flat_outliners = flatten(outliners_pcd)\n",
    "flat_outliners_err = flatten(outliners_err_pcd)"
   ],
   "metadata": {
    "collapsed": false
   }
  },
  {
   "cell_type": "code",
   "execution_count": 7,
   "outputs": [],
   "source": [
    "# flat_inliners_filt, _ = flat_inliners.remove_radius_outlier(50, 0.5)\n",
    "flat_outliners_filt, _ = flat_outliners.remove_radius_outlier(50, 0.5)\n",
    "flat_outliners_err_filt, _ = flat_outliners_err.remove_radius_outlier(50, 0.5)"
   ],
   "metadata": {
    "collapsed": false
   }
  },
  {
   "cell_type": "code",
   "execution_count": 8,
   "outputs": [],
   "source": [
    "o3d.visualization.draw_geometries([flat_inliners, flat_outliners_filt, flat_outliners_err_filt])"
   ],
   "metadata": {
    "collapsed": false
   }
  },
  {
   "cell_type": "code",
   "execution_count": null,
   "outputs": [],
   "source": [
    "### Taking picture, not working really well\n",
    "\n",
    "vis = o3d.visualization.Visualizer()\n",
    "vis.create_window()\n",
    "vis.add_geometry(flat_inliners)\n",
    "vis.add_geometry(flat_outliners_filt)\n",
    "vis.add_geometry(flat_outliners_err_filt)\n",
    "vis.update_geometry(flat_inliners)\n",
    "vis.update_geometry(flat_outliners_filt)\n",
    "vis.update_geometry(flat_outliners_err_filt)\n",
    "vis.poll_events()\n",
    "vis.update_renderer()\n",
    "vis.capture_screen_image('image.png')\n",
    "vis.destroy_window()"
   ],
   "metadata": {
    "collapsed": false
   }
  },
  {
   "cell_type": "code",
   "execution_count": 10,
   "outputs": [],
   "source": [
    "inliners_points = np.asarray(flat_inliners.points).copy()\n",
    "inliners_colors = np.asarray(flat_inliners.colors).copy()\n",
    "outliners_points = np.asarray(flat_outliners_filt.points).copy()\n",
    "outliners_colors = np.asarray(flat_outliners_filt.colors).copy()\n",
    "outliners_err_points = np.asarray(flat_outliners_err_filt.points).copy()\n",
    "outliners_err_colors = np.asarray(flat_outliners_err_filt.colors).copy()"
   ],
   "metadata": {
    "collapsed": false
   }
  },
  {
   "cell_type": "code",
   "execution_count": 12,
   "outputs": [
    {
     "data": {
      "text/plain": "-2.429036855697632"
     },
     "execution_count": 12,
     "metadata": {},
     "output_type": "execute_result"
    }
   ],
   "source": [
    "inliners_points.min()"
   ],
   "metadata": {
    "collapsed": false
   }
  }
 ],
 "metadata": {
  "kernelspec": {
   "display_name": "Python 3 (ipykernel)",
   "language": "python",
   "name": "python3"
  },
  "language_info": {
   "codemirror_mode": {
    "name": "ipython",
    "version": 3
   },
   "file_extension": ".py",
   "mimetype": "text/x-python",
   "name": "python",
   "nbconvert_exporter": "python",
   "pygments_lexer": "ipython3",
   "version": "3.10.6"
  }
 },
 "nbformat": 4,
 "nbformat_minor": 1
}
