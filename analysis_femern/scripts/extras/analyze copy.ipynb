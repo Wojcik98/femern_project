{
 "cells": [
  {
   "cell_type": "code",
   "execution_count": 9,
   "metadata": {},
   "outputs": [],
   "source": [
    "import open3d as o3d\n",
    "import numpy as np\n",
    "from typing import List\n",
    "from skspatial.objects import Plane, Points\n",
    "from skspatial.plotting import plot_3d\n",
    "import matplotlib.pyplot as plt\n",
    "import matplotlib\n",
    "import time\n",
    "import plotly.express as px\n",
    "import pandas as pd\n",
    "from PIL import Image\n",
    "\n",
    "import os"
   ]
  },
  {
   "cell_type": "code",
   "execution_count": null,
   "metadata": {},
   "outputs": [],
   "source": [
    "pcds: List[o3d.geometry.PointCloud] = []\n",
    "# plys_dir = 'very_flat_plys/'\n",
    "# plys_dir = 'road_long_towards_plys/'\n",
    "plys_dir = '../../maps/flat_frame_separated/'\n",
    "\n",
    "for fn in os.listdir(plys_dir):\n",
    "    pcds.append(o3d.io.read_point_cloud(plys_dir + fn))"
   ]
  },
  {
   "cell_type": "code",
   "execution_count": 78,
   "metadata": {},
   "outputs": [
    {
     "name": "stdout",
     "output_type": "stream",
     "text": [
      "Finished 1/256\n",
      "Finished 51/256\n",
      "Finished 101/256\n",
      "Finished 151/256\n",
      "Finished 201/256\n",
      "Finished 251/256\n"
     ]
    }
   ],
   "source": [
    "inliners = []\n",
    "inliners_colors = []\n",
    "outliners = []\n",
    "outliners_err = []\n",
    "inliers_pointcount = []\n",
    "out10_pointcount = []\n",
    "out15_pointcount = []\n",
    "\n",
    "for i, pcd in enumerate(pcds):\n",
    "    # if i == 10: break\n",
    "    pcd, _ = pcd.remove_statistical_outlier(nb_neighbors=10, std_ratio=1.0)\n",
    "\n",
    "    plane_model, inliers = pcd.segment_plane(distance_threshold=0.1,\n",
    "                                             ransac_n=3,\n",
    "                                             num_iterations=1000)\n",
    "\n",
    "    plane_model_err, inliers_err = pcd.segment_plane(distance_threshold=0.15,\n",
    "                                             ransac_n=3,\n",
    "                                             num_iterations=1000)\n",
    "\n",
    "    inlier_cloud = pcd.select_by_index(inliers)\n",
    "    outlier_cloud = pcd.select_by_index(inliers, invert=True)\n",
    "    outlier_cloud_err = pcd.select_by_index(inliers_err, invert=True)\n",
    "    outlier_cloud.paint_uniform_color([0.8, 0.5, 0])\n",
    "    outlier_cloud_err.paint_uniform_color([1, 0, 0])\n",
    "\n",
    "    # analysis\n",
    "    # count how many points in outlier cloud\n",
    "    inliers_pointcount.append(len(inlier_cloud.points))\n",
    "    out10_pointcount.append(len(outlier_cloud.points))\n",
    "    out15_pointcount.append(len(outlier_cloud_err.points))\n",
    "\n",
    "    inliners.append(np.asarray(inlier_cloud.points))\n",
    "    inliners_colors.append(np.asarray(inlier_cloud.colors))\n",
    "    outliners.append(np.asarray(outlier_cloud.points))\n",
    "    outliners_err.append(np.asarray(outlier_cloud_err.points))\n",
    "\n",
    "    if i % 50 == 0:\n",
    "        print(f'Finished {i+1}/{len(pcds)}')\n",
    "\n",
    "inliners = np.concatenate(inliners)\n",
    "inliners_colors = np.concatenate(inliners_colors)\n",
    "outliners = np.concatenate(outliners)\n",
    "outliners_err = np.concatenate(outliners_err)"
   ]
  },
  {
   "cell_type": "code",
   "execution_count": 79,
   "metadata": {},
   "outputs": [
    {
     "name": "stdout",
     "output_type": "stream",
     "text": [
      "False\n"
     ]
    }
   ],
   "source": [
    "print(out10_pointcount == inliers_pointcount)"
   ]
  },
  {
   "cell_type": "code",
   "execution_count": 86,
   "metadata": {},
   "outputs": [
    {
     "data": {
      "application/vnd.plotly.v1+json": {
       "config": {
        "plotlyServerURL": "https://plot.ly"
       },
       "data": [
        {
         "alignmentgroup": "True",
         "hovertemplate": "category=inliers<br>index=%{x}<br>point_count=%{y}<extra></extra>",
         "legendgroup": "inliers",
         "marker": {
          "color": "#636efa",
          "pattern": {
           "shape": ""
          }
         },
         "name": "inliers",
         "offsetgroup": "inliers",
         "orientation": "v",
         "showlegend": true,
         "textposition": "auto",
         "texttemplate": "%{y}",
         "type": "bar",
         "x": [
          0,
          1,
          2,
          3,
          4,
          5,
          6,
          7,
          8,
          9,
          10,
          11,
          12,
          13,
          14,
          15,
          16,
          17,
          18,
          19,
          20,
          21,
          22,
          23,
          24,
          25,
          26,
          27,
          28,
          29,
          30,
          31,
          32,
          33,
          34,
          35,
          36,
          37,
          38,
          39,
          40,
          41,
          42,
          43,
          44,
          45,
          46,
          47,
          48,
          49,
          50,
          51,
          52,
          53,
          54,
          55,
          56,
          57,
          58,
          59,
          60,
          61,
          62,
          63,
          64,
          65,
          66,
          67,
          68,
          69,
          70,
          71,
          72,
          73,
          74,
          75,
          76,
          77,
          78,
          79,
          80,
          81,
          82,
          83,
          84,
          85,
          86,
          87,
          88,
          89,
          90,
          91,
          92,
          93,
          94,
          95,
          96,
          97,
          98,
          99,
          100,
          101,
          102,
          103,
          104,
          105,
          106,
          107,
          108,
          109,
          110,
          111,
          112,
          113,
          114,
          115,
          116,
          117,
          118,
          119,
          120,
          121,
          122,
          123,
          124,
          125,
          126,
          127,
          128,
          129,
          130,
          131,
          132,
          133,
          134,
          135,
          136,
          137,
          138,
          139,
          140,
          141,
          142,
          143,
          144,
          145,
          146,
          147,
          148,
          149,
          150,
          151,
          152,
          153,
          154,
          155,
          156,
          157,
          158,
          159,
          160,
          161,
          162,
          163,
          164,
          165,
          166,
          167,
          168,
          169,
          170,
          171,
          172,
          173,
          174,
          175,
          176,
          177,
          178,
          179,
          180,
          181,
          182,
          183,
          184,
          185,
          186,
          187,
          188,
          189,
          190,
          191,
          192,
          193,
          194,
          195,
          196,
          197,
          198,
          199,
          200,
          201,
          202,
          203,
          204,
          205,
          206,
          207,
          208,
          209,
          210,
          211,
          212,
          213,
          214,
          215,
          216,
          217,
          218,
          219,
          220,
          221,
          222,
          223,
          224,
          225,
          226,
          227,
          228,
          229,
          230,
          231,
          232,
          233,
          234,
          235,
          236,
          237,
          238,
          239,
          240,
          241,
          242,
          243,
          244,
          245,
          246,
          247,
          248,
          249,
          250,
          251,
          252,
          253,
          254,
          255
         ],
         "xaxis": "x",
         "y": [
          16112,
          16395,
          16228,
          16490,
          16444,
          16524,
          16740,
          15651,
          15743,
          16739,
          16516,
          16523,
          16541,
          15862,
          16757,
          18129,
          15938,
          16457,
          16163,
          16627,
          16367,
          16027,
          16704,
          16323,
          16406,
          16501,
          16281,
          15957,
          16616,
          16482,
          16511,
          16260,
          15905,
          16290,
          16397,
          16712,
          15609,
          16544,
          17802,
          15737,
          16706,
          16344,
          17068,
          16633,
          16382,
          15243,
          16271,
          16490,
          16434,
          16247,
          17955,
          17055,
          16750,
          16129,
          16475,
          16370,
          16085,
          17178,
          16230,
          16940,
          16636,
          16245,
          16319,
          17000,
          16784,
          16310,
          16510,
          16798,
          16678,
          16535,
          16874,
          16651,
          15757,
          15992,
          16490,
          16801,
          16778,
          16402,
          17107,
          16232,
          17961,
          16731,
          16216,
          16282,
          16292,
          16203,
          16692,
          16366,
          16243,
          17423,
          16373,
          16826,
          16430,
          16236,
          16668,
          16684,
          16190,
          16205,
          16422,
          16858,
          15867,
          16880,
          16328,
          16169,
          17053,
          15808,
          16704,
          16268,
          16725,
          16130,
          16539,
          18129,
          16332,
          16810,
          16538,
          16381,
          16495,
          16343,
          16403,
          16108,
          16143,
          16648,
          17070,
          18244,
          16488,
          16488,
          16461,
          16203,
          17921,
          16504,
          16969,
          16632,
          16005,
          16781,
          16538,
          16221,
          16559,
          16269,
          16842,
          16040,
          16501,
          16542,
          16848,
          16210,
          16657,
          16414,
          16124,
          16409,
          16525,
          16236,
          16440,
          16366,
          16416,
          16469,
          16411,
          16373,
          16549,
          16726,
          16764,
          16589,
          16408,
          16803,
          16866,
          16671,
          16897,
          16398,
          16393,
          16521,
          16876,
          16660,
          16410,
          16612,
          16720,
          16580,
          16770,
          16433,
          17682,
          16738,
          16416,
          16898,
          16320,
          16305,
          16259,
          17995,
          16616,
          16219,
          16344,
          16545,
          16519,
          16861,
          16627,
          16000,
          16685,
          16222,
          16550,
          16455,
          16555,
          16515,
          16751,
          16601,
          16395,
          16706,
          16484,
          16208,
          16654,
          16311,
          16560,
          18126,
          16525,
          16280,
          17420,
          16528,
          16535,
          16280,
          16616,
          16769,
          16672,
          16699,
          16402,
          16814,
          16368,
          16493,
          16158,
          16847,
          16511,
          16454,
          15998,
          17809,
          16653,
          17113,
          16041,
          16610,
          16637,
          16780,
          16693,
          17993,
          16369,
          16515,
          16722,
          16819,
          16181,
          16913,
          16737,
          16144,
          16730,
          16766,
          16210,
          16387,
          17328,
          16409,
          16912,
          16982,
          16506,
          16074,
          17155,
          16288
         ],
         "yaxis": "y"
        },
        {
         "alignmentgroup": "True",
         "hovertemplate": "category=outliers<br>index=%{x}<br>point_count=%{y}<extra></extra>",
         "legendgroup": "outliers",
         "marker": {
          "color": "#EF553B",
          "pattern": {
           "shape": ""
          }
         },
         "name": "outliers",
         "offsetgroup": "outliers",
         "orientation": "v",
         "showlegend": true,
         "textposition": "auto",
         "texttemplate": "%{y}",
         "type": "bar",
         "x": [
          0,
          1,
          2,
          3,
          4,
          5,
          6,
          7,
          8,
          9,
          10,
          11,
          12,
          13,
          14,
          15,
          16,
          17,
          18,
          19,
          20,
          21,
          22,
          23,
          24,
          25,
          26,
          27,
          28,
          29,
          30,
          31,
          32,
          33,
          34,
          35,
          36,
          37,
          38,
          39,
          40,
          41,
          42,
          43,
          44,
          45,
          46,
          47,
          48,
          49,
          50,
          51,
          52,
          53,
          54,
          55,
          56,
          57,
          58,
          59,
          60,
          61,
          62,
          63,
          64,
          65,
          66,
          67,
          68,
          69,
          70,
          71,
          72,
          73,
          74,
          75,
          76,
          77,
          78,
          79,
          80,
          81,
          82,
          83,
          84,
          85,
          86,
          87,
          88,
          89,
          90,
          91,
          92,
          93,
          94,
          95,
          96,
          97,
          98,
          99,
          100,
          101,
          102,
          103,
          104,
          105,
          106,
          107,
          108,
          109,
          110,
          111,
          112,
          113,
          114,
          115,
          116,
          117,
          118,
          119,
          120,
          121,
          122,
          123,
          124,
          125,
          126,
          127,
          128,
          129,
          130,
          131,
          132,
          133,
          134,
          135,
          136,
          137,
          138,
          139,
          140,
          141,
          142,
          143,
          144,
          145,
          146,
          147,
          148,
          149,
          150,
          151,
          152,
          153,
          154,
          155,
          156,
          157,
          158,
          159,
          160,
          161,
          162,
          163,
          164,
          165,
          166,
          167,
          168,
          169,
          170,
          171,
          172,
          173,
          174,
          175,
          176,
          177,
          178,
          179,
          180,
          181,
          182,
          183,
          184,
          185,
          186,
          187,
          188,
          189,
          190,
          191,
          192,
          193,
          194,
          195,
          196,
          197,
          198,
          199,
          200,
          201,
          202,
          203,
          204,
          205,
          206,
          207,
          208,
          209,
          210,
          211,
          212,
          213,
          214,
          215,
          216,
          217,
          218,
          219,
          220,
          221,
          222,
          223,
          224,
          225,
          226,
          227,
          228,
          229,
          230,
          231,
          232,
          233,
          234,
          235,
          236,
          237,
          238,
          239,
          240,
          241,
          242,
          243,
          244,
          245,
          246,
          247,
          248,
          249,
          250,
          251,
          252,
          253,
          254,
          255
         ],
         "xaxis": "x",
         "y": [
          150,
          122,
          0,
          35,
          8,
          0,
          15,
          976,
          910,
          0,
          5,
          0,
          0,
          519,
          38,
          50,
          361,
          4,
          89,
          0,
          1,
          1291,
          0,
          0,
          12,
          0,
          85,
          299,
          103,
          6,
          0,
          5,
          29,
          68,
          0,
          0,
          191,
          0,
          0,
          0,
          9,
          13,
          0,
          0,
          171,
          785,
          162,
          0,
          3,
          135,
          7,
          24,
          0,
          169,
          25,
          0,
          4,
          0,
          41,
          0,
          65,
          0,
          0,
          0,
          0,
          0,
          51,
          5,
          0,
          0,
          11,
          0,
          543,
          152,
          0,
          17,
          0,
          145,
          25,
          0,
          34,
          38,
          2,
          223,
          120,
          134,
          121,
          118,
          4,
          16,
          0,
          7,
          0,
          0,
          0,
          110,
          293,
          0,
          0,
          0,
          147,
          2,
          237,
          12,
          0,
          1070,
          22,
          10,
          280,
          0,
          0,
          0,
          0,
          0,
          0,
          2,
          481,
          0,
          0,
          8,
          12,
          0,
          0,
          21,
          0,
          14,
          36,
          0,
          244,
          0,
          17,
          0,
          416,
          0,
          0,
          0,
          11,
          2,
          15,
          0,
          115,
          0,
          0,
          0,
          0,
          53,
          911,
          0,
          0,
          0,
          308,
          0,
          71,
          19,
          0,
          19,
          223,
          29,
          0,
          34,
          164,
          0,
          0,
          174,
          0,
          0,
          1,
          0,
          0,
          2,
          128,
          5,
          0,
          0,
          0,
          157,
          0,
          97,
          0,
          0,
          10,
          73,
          83,
          0,
          0,
          1,
          0,
          0,
          0,
          0,
          0,
          63,
          7,
          1,
          0,
          41,
          96,
          0,
          0,
          0,
          128,
          141,
          0,
          0,
          31,
          0,
          4,
          0,
          12,
          0,
          0,
          0,
          16,
          0,
          32,
          0,
          24,
          53,
          181,
          25,
          0,
          0,
          391,
          0,
          90,
          0,
          0,
          0,
          0,
          21,
          130,
          0,
          30,
          0,
          5,
          183,
          8,
          241,
          209,
          0,
          350,
          0,
          1,
          34,
          0,
          0,
          228,
          0,
          11,
          143,
          0,
          2,
          0,
          74,
          0,
          0
         ],
         "yaxis": "y"
        }
       ],
       "layout": {
        "barmode": "group",
        "legend": {
         "title": {
          "text": "category"
         },
         "tracegroupgap": 0
        },
        "margin": {
         "t": 60
        },
        "template": {
         "data": {
          "bar": [
           {
            "error_x": {
             "color": "#2a3f5f"
            },
            "error_y": {
             "color": "#2a3f5f"
            },
            "marker": {
             "line": {
              "color": "#E5ECF6",
              "width": 0.5
             },
             "pattern": {
              "fillmode": "overlay",
              "size": 10,
              "solidity": 0.2
             }
            },
            "type": "bar"
           }
          ],
          "barpolar": [
           {
            "marker": {
             "line": {
              "color": "#E5ECF6",
              "width": 0.5
             },
             "pattern": {
              "fillmode": "overlay",
              "size": 10,
              "solidity": 0.2
             }
            },
            "type": "barpolar"
           }
          ],
          "carpet": [
           {
            "aaxis": {
             "endlinecolor": "#2a3f5f",
             "gridcolor": "white",
             "linecolor": "white",
             "minorgridcolor": "white",
             "startlinecolor": "#2a3f5f"
            },
            "baxis": {
             "endlinecolor": "#2a3f5f",
             "gridcolor": "white",
             "linecolor": "white",
             "minorgridcolor": "white",
             "startlinecolor": "#2a3f5f"
            },
            "type": "carpet"
           }
          ],
          "choropleth": [
           {
            "colorbar": {
             "outlinewidth": 0,
             "ticks": ""
            },
            "type": "choropleth"
           }
          ],
          "contour": [
           {
            "colorbar": {
             "outlinewidth": 0,
             "ticks": ""
            },
            "colorscale": [
             [
              0,
              "#0d0887"
             ],
             [
              0.1111111111111111,
              "#46039f"
             ],
             [
              0.2222222222222222,
              "#7201a8"
             ],
             [
              0.3333333333333333,
              "#9c179e"
             ],
             [
              0.4444444444444444,
              "#bd3786"
             ],
             [
              0.5555555555555556,
              "#d8576b"
             ],
             [
              0.6666666666666666,
              "#ed7953"
             ],
             [
              0.7777777777777778,
              "#fb9f3a"
             ],
             [
              0.8888888888888888,
              "#fdca26"
             ],
             [
              1,
              "#f0f921"
             ]
            ],
            "type": "contour"
           }
          ],
          "contourcarpet": [
           {
            "colorbar": {
             "outlinewidth": 0,
             "ticks": ""
            },
            "type": "contourcarpet"
           }
          ],
          "heatmap": [
           {
            "colorbar": {
             "outlinewidth": 0,
             "ticks": ""
            },
            "colorscale": [
             [
              0,
              "#0d0887"
             ],
             [
              0.1111111111111111,
              "#46039f"
             ],
             [
              0.2222222222222222,
              "#7201a8"
             ],
             [
              0.3333333333333333,
              "#9c179e"
             ],
             [
              0.4444444444444444,
              "#bd3786"
             ],
             [
              0.5555555555555556,
              "#d8576b"
             ],
             [
              0.6666666666666666,
              "#ed7953"
             ],
             [
              0.7777777777777778,
              "#fb9f3a"
             ],
             [
              0.8888888888888888,
              "#fdca26"
             ],
             [
              1,
              "#f0f921"
             ]
            ],
            "type": "heatmap"
           }
          ],
          "heatmapgl": [
           {
            "colorbar": {
             "outlinewidth": 0,
             "ticks": ""
            },
            "colorscale": [
             [
              0,
              "#0d0887"
             ],
             [
              0.1111111111111111,
              "#46039f"
             ],
             [
              0.2222222222222222,
              "#7201a8"
             ],
             [
              0.3333333333333333,
              "#9c179e"
             ],
             [
              0.4444444444444444,
              "#bd3786"
             ],
             [
              0.5555555555555556,
              "#d8576b"
             ],
             [
              0.6666666666666666,
              "#ed7953"
             ],
             [
              0.7777777777777778,
              "#fb9f3a"
             ],
             [
              0.8888888888888888,
              "#fdca26"
             ],
             [
              1,
              "#f0f921"
             ]
            ],
            "type": "heatmapgl"
           }
          ],
          "histogram": [
           {
            "marker": {
             "pattern": {
              "fillmode": "overlay",
              "size": 10,
              "solidity": 0.2
             }
            },
            "type": "histogram"
           }
          ],
          "histogram2d": [
           {
            "colorbar": {
             "outlinewidth": 0,
             "ticks": ""
            },
            "colorscale": [
             [
              0,
              "#0d0887"
             ],
             [
              0.1111111111111111,
              "#46039f"
             ],
             [
              0.2222222222222222,
              "#7201a8"
             ],
             [
              0.3333333333333333,
              "#9c179e"
             ],
             [
              0.4444444444444444,
              "#bd3786"
             ],
             [
              0.5555555555555556,
              "#d8576b"
             ],
             [
              0.6666666666666666,
              "#ed7953"
             ],
             [
              0.7777777777777778,
              "#fb9f3a"
             ],
             [
              0.8888888888888888,
              "#fdca26"
             ],
             [
              1,
              "#f0f921"
             ]
            ],
            "type": "histogram2d"
           }
          ],
          "histogram2dcontour": [
           {
            "colorbar": {
             "outlinewidth": 0,
             "ticks": ""
            },
            "colorscale": [
             [
              0,
              "#0d0887"
             ],
             [
              0.1111111111111111,
              "#46039f"
             ],
             [
              0.2222222222222222,
              "#7201a8"
             ],
             [
              0.3333333333333333,
              "#9c179e"
             ],
             [
              0.4444444444444444,
              "#bd3786"
             ],
             [
              0.5555555555555556,
              "#d8576b"
             ],
             [
              0.6666666666666666,
              "#ed7953"
             ],
             [
              0.7777777777777778,
              "#fb9f3a"
             ],
             [
              0.8888888888888888,
              "#fdca26"
             ],
             [
              1,
              "#f0f921"
             ]
            ],
            "type": "histogram2dcontour"
           }
          ],
          "mesh3d": [
           {
            "colorbar": {
             "outlinewidth": 0,
             "ticks": ""
            },
            "type": "mesh3d"
           }
          ],
          "parcoords": [
           {
            "line": {
             "colorbar": {
              "outlinewidth": 0,
              "ticks": ""
             }
            },
            "type": "parcoords"
           }
          ],
          "pie": [
           {
            "automargin": true,
            "type": "pie"
           }
          ],
          "scatter": [
           {
            "fillpattern": {
             "fillmode": "overlay",
             "size": 10,
             "solidity": 0.2
            },
            "type": "scatter"
           }
          ],
          "scatter3d": [
           {
            "line": {
             "colorbar": {
              "outlinewidth": 0,
              "ticks": ""
             }
            },
            "marker": {
             "colorbar": {
              "outlinewidth": 0,
              "ticks": ""
             }
            },
            "type": "scatter3d"
           }
          ],
          "scattercarpet": [
           {
            "marker": {
             "colorbar": {
              "outlinewidth": 0,
              "ticks": ""
             }
            },
            "type": "scattercarpet"
           }
          ],
          "scattergeo": [
           {
            "marker": {
             "colorbar": {
              "outlinewidth": 0,
              "ticks": ""
             }
            },
            "type": "scattergeo"
           }
          ],
          "scattergl": [
           {
            "marker": {
             "colorbar": {
              "outlinewidth": 0,
              "ticks": ""
             }
            },
            "type": "scattergl"
           }
          ],
          "scattermapbox": [
           {
            "marker": {
             "colorbar": {
              "outlinewidth": 0,
              "ticks": ""
             }
            },
            "type": "scattermapbox"
           }
          ],
          "scatterpolar": [
           {
            "marker": {
             "colorbar": {
              "outlinewidth": 0,
              "ticks": ""
             }
            },
            "type": "scatterpolar"
           }
          ],
          "scatterpolargl": [
           {
            "marker": {
             "colorbar": {
              "outlinewidth": 0,
              "ticks": ""
             }
            },
            "type": "scatterpolargl"
           }
          ],
          "scatterternary": [
           {
            "marker": {
             "colorbar": {
              "outlinewidth": 0,
              "ticks": ""
             }
            },
            "type": "scatterternary"
           }
          ],
          "surface": [
           {
            "colorbar": {
             "outlinewidth": 0,
             "ticks": ""
            },
            "colorscale": [
             [
              0,
              "#0d0887"
             ],
             [
              0.1111111111111111,
              "#46039f"
             ],
             [
              0.2222222222222222,
              "#7201a8"
             ],
             [
              0.3333333333333333,
              "#9c179e"
             ],
             [
              0.4444444444444444,
              "#bd3786"
             ],
             [
              0.5555555555555556,
              "#d8576b"
             ],
             [
              0.6666666666666666,
              "#ed7953"
             ],
             [
              0.7777777777777778,
              "#fb9f3a"
             ],
             [
              0.8888888888888888,
              "#fdca26"
             ],
             [
              1,
              "#f0f921"
             ]
            ],
            "type": "surface"
           }
          ],
          "table": [
           {
            "cells": {
             "fill": {
              "color": "#EBF0F8"
             },
             "line": {
              "color": "white"
             }
            },
            "header": {
             "fill": {
              "color": "#C8D4E3"
             },
             "line": {
              "color": "white"
             }
            },
            "type": "table"
           }
          ]
         },
         "layout": {
          "annotationdefaults": {
           "arrowcolor": "#2a3f5f",
           "arrowhead": 0,
           "arrowwidth": 1
          },
          "autotypenumbers": "strict",
          "coloraxis": {
           "colorbar": {
            "outlinewidth": 0,
            "ticks": ""
           }
          },
          "colorscale": {
           "diverging": [
            [
             0,
             "#8e0152"
            ],
            [
             0.1,
             "#c51b7d"
            ],
            [
             0.2,
             "#de77ae"
            ],
            [
             0.3,
             "#f1b6da"
            ],
            [
             0.4,
             "#fde0ef"
            ],
            [
             0.5,
             "#f7f7f7"
            ],
            [
             0.6,
             "#e6f5d0"
            ],
            [
             0.7,
             "#b8e186"
            ],
            [
             0.8,
             "#7fbc41"
            ],
            [
             0.9,
             "#4d9221"
            ],
            [
             1,
             "#276419"
            ]
           ],
           "sequential": [
            [
             0,
             "#0d0887"
            ],
            [
             0.1111111111111111,
             "#46039f"
            ],
            [
             0.2222222222222222,
             "#7201a8"
            ],
            [
             0.3333333333333333,
             "#9c179e"
            ],
            [
             0.4444444444444444,
             "#bd3786"
            ],
            [
             0.5555555555555556,
             "#d8576b"
            ],
            [
             0.6666666666666666,
             "#ed7953"
            ],
            [
             0.7777777777777778,
             "#fb9f3a"
            ],
            [
             0.8888888888888888,
             "#fdca26"
            ],
            [
             1,
             "#f0f921"
            ]
           ],
           "sequentialminus": [
            [
             0,
             "#0d0887"
            ],
            [
             0.1111111111111111,
             "#46039f"
            ],
            [
             0.2222222222222222,
             "#7201a8"
            ],
            [
             0.3333333333333333,
             "#9c179e"
            ],
            [
             0.4444444444444444,
             "#bd3786"
            ],
            [
             0.5555555555555556,
             "#d8576b"
            ],
            [
             0.6666666666666666,
             "#ed7953"
            ],
            [
             0.7777777777777778,
             "#fb9f3a"
            ],
            [
             0.8888888888888888,
             "#fdca26"
            ],
            [
             1,
             "#f0f921"
            ]
           ]
          },
          "colorway": [
           "#636efa",
           "#EF553B",
           "#00cc96",
           "#ab63fa",
           "#FFA15A",
           "#19d3f3",
           "#FF6692",
           "#B6E880",
           "#FF97FF",
           "#FECB52"
          ],
          "font": {
           "color": "#2a3f5f"
          },
          "geo": {
           "bgcolor": "white",
           "lakecolor": "white",
           "landcolor": "#E5ECF6",
           "showlakes": true,
           "showland": true,
           "subunitcolor": "white"
          },
          "hoverlabel": {
           "align": "left"
          },
          "hovermode": "closest",
          "mapbox": {
           "style": "light"
          },
          "paper_bgcolor": "white",
          "plot_bgcolor": "#E5ECF6",
          "polar": {
           "angularaxis": {
            "gridcolor": "white",
            "linecolor": "white",
            "ticks": ""
           },
           "bgcolor": "#E5ECF6",
           "radialaxis": {
            "gridcolor": "white",
            "linecolor": "white",
            "ticks": ""
           }
          },
          "scene": {
           "xaxis": {
            "backgroundcolor": "#E5ECF6",
            "gridcolor": "white",
            "gridwidth": 2,
            "linecolor": "white",
            "showbackground": true,
            "ticks": "",
            "zerolinecolor": "white"
           },
           "yaxis": {
            "backgroundcolor": "#E5ECF6",
            "gridcolor": "white",
            "gridwidth": 2,
            "linecolor": "white",
            "showbackground": true,
            "ticks": "",
            "zerolinecolor": "white"
           },
           "zaxis": {
            "backgroundcolor": "#E5ECF6",
            "gridcolor": "white",
            "gridwidth": 2,
            "linecolor": "white",
            "showbackground": true,
            "ticks": "",
            "zerolinecolor": "white"
           }
          },
          "shapedefaults": {
           "line": {
            "color": "#2a3f5f"
           }
          },
          "ternary": {
           "aaxis": {
            "gridcolor": "white",
            "linecolor": "white",
            "ticks": ""
           },
           "baxis": {
            "gridcolor": "white",
            "linecolor": "white",
            "ticks": ""
           },
           "bgcolor": "#E5ECF6",
           "caxis": {
            "gridcolor": "white",
            "linecolor": "white",
            "ticks": ""
           }
          },
          "title": {
           "x": 0.05
          },
          "xaxis": {
           "automargin": true,
           "gridcolor": "white",
           "linecolor": "white",
           "ticks": "",
           "title": {
            "standoff": 15
           },
           "zerolinecolor": "white",
           "zerolinewidth": 2
          },
          "yaxis": {
           "automargin": true,
           "gridcolor": "white",
           "linecolor": "white",
           "ticks": "",
           "title": {
            "standoff": 15
           },
           "zerolinecolor": "white",
           "zerolinewidth": 2
          }
         }
        },
        "xaxis": {
         "anchor": "y",
         "domain": [
          0,
          1
         ],
         "title": {
          "text": "index"
         }
        },
        "yaxis": {
         "anchor": "x",
         "domain": [
          0,
          1
         ],
         "title": {
          "text": "point_count"
         }
        }
       }
      }
     },
     "metadata": {},
     "output_type": "display_data"
    }
   ],
   "source": [
    "def plot_outliers_count(outliers_pc_, inliers_pc_=[],idx_range_=()):\n",
    "    # slicing\n",
    "    outliers_pc_ = outliers_pc_ [idx_range_[0]:idx_range_[1]] if idx_range_ else outliers_pc_  \n",
    "    inliers_pc_ = inliers_pc_ [idx_range_[0]:idx_range_[1]] if (idx_range_ and inliers_pc_)  else inliers_pc_ \n",
    "\n",
    "    _out_np = np.array([outliers_pc_]).transpose()\n",
    "    _out_np = np.concatenate((_out_np,np.zeros((_out_np.shape[0],1))),axis=1)\n",
    "    _out_df = pd.DataFrame(_out_np, columns=['point_count','category'])\n",
    "    _out_df[['category']] = 'outliers'\n",
    "\n",
    "    if inliers_pc_:\n",
    "        _inliers_np = np.array([inliers_pc_]).transpose()\n",
    "        _inliers_np = np.concatenate((_inliers_np,np.zeros((_inliers_np.shape[0],1))),axis=1)\n",
    "\n",
    "        _indf = pd.DataFrame(_inliers_np, columns=['point_count','category'])\n",
    "        _indf[['category']] = 'inliers'\n",
    "        df = pd.concat((_indf, _out_df))\n",
    "    else:\n",
    "        df = _out_df\n",
    "\n",
    "    fig = px.bar(df, y=\"point_count\", color=\"category\", barmode=\"group\", text_auto=True)\n",
    "    fig.show()\n",
    "\n",
    "plot_outliers_count(out10_pointcount, inliers_pointcount)"
   ]
  },
  {
   "cell_type": "code",
   "execution_count": 83,
   "metadata": {},
   "outputs": [
    {
     "data": {
      "text/plain": [
       "23.829787234042552"
      ]
     },
     "execution_count": 83,
     "metadata": {},
     "output_type": "execute_result"
    }
   ],
   "source": [
    "35*256/376"
   ]
  },
  {
   "cell_type": "code",
   "execution_count": 92,
   "metadata": {},
   "outputs": [
    {
     "name": "stdout",
     "output_type": "stream",
     "text": [
      "(256, 1)\n"
     ]
    }
   ],
   "source": [
    "_pc = pcds[100]\n",
    "# o3d.visualization.draw_geometries([_pc])\n",
    "\n",
    "pcd, _ = _pc.remove_statistical_outlier(nb_neighbors=10, std_ratio=1.0)\n",
    "\n",
    "plane_model, inliers = pcd.segment_plane(distance_threshold=0.1,\n",
    "                                            ransac_n=3,\n",
    "                                            num_iterations=1000)\n",
    "\n",
    "inliers_cloud = pcd.select_by_index(inliers)\n",
    "outlier_cloud_10 = pcd.select_by_index(inliers, invert=True)\n",
    "\n",
    "\n",
    "inliers_np = np.array([inliers_cloud.points]).transpose()\n",
    "out10_np = np.array([out10_pointcount]).transpose()\n",
    "\n",
    "print(inliers_np.shape)\n",
    "\n",
    "\n",
    "inliers_np = np.concatenate((inliers_np,np.zeros((inliers_np.shape[0],1))),axis=1)\n",
    "out10_np = np.concatenate((out10_np,np.zeros((out10_np.shape[0],1))),axis=1)\n",
    "\n",
    "\n",
    "# inliers_np = np.concatenate(\n",
    "#     (inliers_np, np.zeros((inliers_np.shape[0],1))),axis=1\n",
    "#     )\n",
    "# indf = pd.DataFrame(inliers_np, columns=['X','Y','Z','category'])\n",
    "\n",
    "# out10_np = np.concatenate(\n",
    "#     (out10_np, np.ones((out10_np.shape[0],1))),axis=1\n",
    "#     )\n",
    "# out10df = pd.DataFrame(out10_np, columns=['X','Y','Z','category'])\n",
    "\n",
    "# indf[['category']] = 'inliers'\n",
    "# out10df[['category']] = 'outliers'\n",
    "# df = pd.concat((indf, out10df))\n",
    "\n",
    "# fig = px.scatter_3d(df,x='X',y='Y',z='Z',color='category')\n",
    "# fig.update_traces(marker=dict(size=3))\n",
    "# fig.show()"
   ]
  },
  {
   "cell_type": "code",
   "execution_count": null,
   "metadata": {},
   "outputs": [],
   "source": [
    "inliers_np = np.array([inliers_pointcount]).transpose()\n",
    "out10_np = np.array([out10_pointcount]).transpose()\n",
    "\n",
    "inliers_np = np.concatenate((inliers_np,np.zeros((inliers_np.shape[0],1))),axis=1)\n",
    "out10_np = np.concatenate((out10_np,np.zeros((out10_np.shape[0],1))),axis=1)\n",
    "\n",
    "indf = pd.DataFrame(inliers_np, columns=['point_count','category'])\n",
    "out10_df = pd.DataFrame(out10_np, columns=['point_count','category'])\n",
    "\n",
    "indf[['category']] = 'inliers'\n",
    "out10_df[['category']] = 'outliers'\n",
    "\n",
    "df = pd.concat((indf, out10_df))"
   ]
  },
  {
   "cell_type": "code",
   "execution_count": null,
   "metadata": {
    "collapsed": false
   },
   "outputs": [],
   "source": [
    "inliners_pcd = o3d.geometry.PointCloud()\n",
    "inliners_pcd.points = o3d.utility.Vector3dVector(inliners)\n",
    "inliners_pcd.colors = o3d.utility.Vector3dVector(inliners_colors)\n",
    "\n",
    "outliners_pcd = o3d.geometry.PointCloud()\n",
    "outliners_pcd.points = o3d.utility.Vector3dVector(outliners)\n",
    "outliners_pcd.paint_uniform_color([0.8, 0.5, 0.0])\n",
    "\n",
    "outliners_err_pcd = o3d.geometry.PointCloud()\n",
    "outliners_err_pcd.points = o3d.utility.Vector3dVector(outliners_err)\n",
    "outliners_err_pcd.paint_uniform_color([1.0, 0.0, 0.0])"
   ]
  },
  {
   "cell_type": "code",
   "execution_count": null,
   "metadata": {
    "collapsed": false
   },
   "outputs": [],
   "source": [
    "o3d.visualization.draw_geometries([inliners_pcd, outliners_pcd, outliners_err_pcd])"
   ]
  },
  {
   "cell_type": "code",
   "execution_count": null,
   "metadata": {
    "collapsed": false
   },
   "outputs": [],
   "source": [
    "def flatten(pcd: o3d.geometry.PointCloud) -> o3d.geometry.PointCloud:\n",
    "    pts = np.asarray(pcd.points).copy()\n",
    "    colors = np.asarray(pcd.colors).copy()\n",
    "    for pt in pts:\n",
    "        pt[2] = 0.0\n",
    "\n",
    "    new_pcd = o3d.geometry.PointCloud()\n",
    "    new_pcd.points = o3d.utility.Vector3dVector(pts)\n",
    "    new_pcd.colors = o3d.utility.Vector3dVector(colors)\n",
    "\n",
    "    return new_pcd\n",
    "\n",
    "flat_inliners = flatten(inliners_pcd)\n",
    "flat_outliners = flatten(outliners_pcd)\n",
    "flat_outliners_err = flatten(outliners_err_pcd)"
   ]
  },
  {
   "cell_type": "code",
   "execution_count": null,
   "metadata": {
    "collapsed": false
   },
   "outputs": [],
   "source": [
    "# flat_inliners_filt, _ = flat_inliners.remove_radius_outlier(50, 0.5)\n",
    "flat_outliners_filt, _ = flat_outliners.remove_radius_outlier(50, 0.5)\n",
    "flat_outliners_err_filt, _ = flat_outliners_err.remove_radius_outlier(50, 0.5)"
   ]
  },
  {
   "cell_type": "code",
   "execution_count": null,
   "metadata": {
    "collapsed": false
   },
   "outputs": [],
   "source": [
    "o3d.visualization.draw_geometries([flat_inliners, flat_outliners_filt, flat_outliners_err_filt])"
   ]
  },
  {
   "cell_type": "code",
   "execution_count": null,
   "metadata": {
    "collapsed": false
   },
   "outputs": [],
   "source": [
    "### Taking picture, not working really well\n",
    "\n",
    "vis = o3d.visualization.Visualizer()\n",
    "vis.create_window()\n",
    "vis.add_geometry(flat_inliners)\n",
    "vis.add_geometry(flat_outliners_filt)\n",
    "vis.add_geometry(flat_outliners_err_filt)\n",
    "vis.update_geometry(flat_inliners)\n",
    "vis.update_geometry(flat_outliners_filt)\n",
    "vis.update_geometry(flat_outliners_err_filt)\n",
    "vis.poll_events()\n",
    "vis.update_renderer()\n",
    "vis.capture_screen_image('image.png')\n",
    "vis.destroy_window()"
   ]
  },
  {
   "cell_type": "code",
   "execution_count": null,
   "metadata": {
    "collapsed": false
   },
   "outputs": [],
   "source": [
    "# R = flat_inliners.get_rotation_matrix_from_xyz((0.0, 0.0, -np.pi / 4))\n",
    "# flat_inliners.rotate(R)\n",
    "# flat_outliners_filt.rotate(R)\n",
    "# flat_outliners_err_filt.rotate(R)"
   ]
  },
  {
   "cell_type": "code",
   "execution_count": null,
   "metadata": {
    "collapsed": false
   },
   "outputs": [],
   "source": [
    "pcd_combined = flat_inliners +  flat_outliners_filt + flat_outliners_err_filt\n",
    "assert isinstance(pcd_combined, o3d.geometry.PointCloud)\n",
    "if plys_dir == 'road_long_towards_plys/':\n",
    "    # rotate to make it more horizontal for image\n",
    "    R = flat_inliners.get_rotation_matrix_from_xyz((0.0, 0.0, -np.pi / 4))\n",
    "    pcd_combined.rotate(R)\n",
    "o3d.visualization.draw_geometries([pcd_combined])"
   ]
  },
  {
   "cell_type": "code",
   "execution_count": null,
   "metadata": {
    "collapsed": false
   },
   "outputs": [],
   "source": [
    "# inliners_points = np.asarray(flat_inliners.points).copy()\n",
    "# inliners_colors = np.asarray(flat_inliners.colors).copy()\n",
    "# outliners_points = np.asarray(flat_outliners_filt.points).copy()\n",
    "# outliners_colors = np.asarray(flat_outliners_filt.colors).copy()\n",
    "# outliners_err_points = np.asarray(flat_outliners_err_filt.points).copy()\n",
    "# outliners_err_colors = np.asarray(flat_outliners_err_filt.colors).copy()\n",
    "\n",
    "# all_points = np.concatenate([inliners_points, outliners_points, outliners_err_points])\n",
    "# all_colors = np.concatenate([inliners_colors, outliners_colors, outliners_err_colors])\n",
    "all_points = np.asarray(pcd_combined.points).copy()\n",
    "all_colors = np.asarray(pcd_combined.colors).copy()"
   ]
  },
  {
   "cell_type": "code",
   "execution_count": null,
   "metadata": {
    "collapsed": false
   },
   "outputs": [],
   "source": [
    "max_dim = all_points.max(axis=0)\n",
    "min_dim = all_points.min(axis=0)\n",
    "span = (max_dim - min_dim)[:2]\n",
    "\n",
    "shifted_points = all_points - min_dim\n",
    "\n",
    "print(span)"
   ]
  },
  {
   "cell_type": "code",
   "execution_count": null,
   "metadata": {
    "collapsed": false
   },
   "outputs": [],
   "source": [
    "img_scale = 10\n",
    "img_size = tuple((img_scale * span).astype('int') + 1)\n",
    "print(img_size)\n",
    "img = Image.new('RGB', img_size, color=(100, 100, 100))\n",
    "pixels = img.load()"
   ]
  },
  {
   "cell_type": "code",
   "execution_count": null,
   "metadata": {
    "collapsed": false
   },
   "outputs": [],
   "source": [
    "for i, (point, color) in enumerate(zip(shifted_points, all_colors)):\n",
    "    point = tuple((img_scale * point[:2]).astype('int'))\n",
    "    color = tuple((256 * color).astype('int'))\n",
    "    pixels[point] = color\n",
    "\n",
    "    if i % 100000 == 0:\n",
    "        print(f'{i}/{len(shifted_points)}')\n",
    "print('Finished')"
   ]
  },
  {
   "cell_type": "code",
   "execution_count": null,
   "metadata": {
    "collapsed": false
   },
   "outputs": [],
   "source": [
    "img.show()"
   ]
  },
  {
   "cell_type": "code",
   "execution_count": null,
   "metadata": {
    "collapsed": false
   },
   "outputs": [],
   "source": [
    "img.save('map.png')"
   ]
  },
  {
   "cell_type": "code",
   "execution_count": null,
   "metadata": {
    "collapsed": false
   },
   "outputs": [],
   "source": [
    "with o3d.utility.VerbosityContextManager(o3d.utility.VerbosityLevel.Debug) as cm:\n",
    "    labels = np.array(flat_outliners_err_filt.cluster_dbscan(eps=0.1, min_points=50, print_progress=True))\n",
    "print(labels.max())"
   ]
  },
  {
   "cell_type": "code",
   "execution_count": null,
   "metadata": {
    "collapsed": false
   },
   "outputs": [],
   "source": [
    "max_label = labels.max()\n",
    "colors = plt.get_cmap(\"tab20\")(labels / (max_label if max_label > 0 else 1))\n",
    "colors[labels < 0] = 0\n",
    "flat_outliners_err_filt.colors = o3d.utility.Vector3dVector(colors[:, :3])\n",
    "o3d.visualization.draw_geometries([flat_outliners_err_filt])"
   ]
  }
 ],
 "metadata": {
  "kernelspec": {
   "display_name": "Python 3.8.10 64-bit",
   "language": "python",
   "name": "python3"
  },
  "language_info": {
   "codemirror_mode": {
    "name": "ipython",
    "version": 3
   },
   "file_extension": ".py",
   "mimetype": "text/x-python",
   "name": "python",
   "nbconvert_exporter": "python",
   "pygments_lexer": "ipython3",
   "version": "3.8.10"
  },
  "vscode": {
   "interpreter": {
    "hash": "e7370f93d1d0cde622a1f8e1c04877d8463912d04d973331ad4851f04de6915a"
   }
  }
 },
 "nbformat": 4,
 "nbformat_minor": 1
}
