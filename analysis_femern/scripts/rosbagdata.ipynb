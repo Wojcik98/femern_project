{
 "cells": [
  {
   "cell_type": "code",
   "execution_count": 1,
   "metadata": {},
   "outputs": [
    {
     "name": "stdout",
     "output_type": "stream",
     "text": [
      "{'033042_59Gb.bag': 1666164642, '050804_39Gb.bag': 1666084084, '060115_9Gb.bag': 1666087275, '075857_15Gb.bag': 1666094337, '081029_21Gb.bag': 1666095029, '092647_15Gb.bag': 1666099607}\n"
     ]
    }
   ],
   "source": [
    "import pandas as pd\n",
    "\n",
    "init_times = dict()\n",
    "for d in pd.read_csv(\"UNIX_init_time.csv\").to_dict(\"records\"):\n",
    "    init_times[d[\"recording\"]] = d['unix_init_time']\n",
    "\n",
    "print(init_times)\n"
   ]
  },
  {
   "cell_type": "code",
   "execution_count": 2,
   "metadata": {},
   "outputs": [],
   "source": [
    "recs_pothole_times = dict()\n",
    "\n",
    "recs_pothole_times['060115_9Gb.bag'] = [\n",
    "    {'start_time_s': 35, 'end_time_s':45},\n",
    "    {'start_time_s': 130, 'end_time_s':140},\n",
    "]\n",
    "\n",
    "recs_pothole_times['075857_15Gb.bag'] = [\n",
    "    {'start_time_s': 70, 'end_time_s':75},\n",
    "]\n",
    "\n",
    "recs_pothole_times['092647_15Gb.bag'] = [\n",
    "    {'start_time_s': 95, 'end_time_s':103},\n",
    "    {'start_time_s': 450, 'end_time_s':465}, # Minipothole\n",
    "]"
   ]
  },
  {
   "cell_type": "code",
   "execution_count": 3,
   "metadata": {},
   "outputs": [
    {
     "name": "stdout",
     "output_type": "stream",
     "text": [
      "060115_9Gb.bag\n",
      "{'start_time_s': 35, 'end_time_s': 45, 'unix_start_time': 1666087310, 'unix_end_time': 1666087320}\n",
      "{'start_time_s': 130, 'end_time_s': 140, 'unix_start_time': 1666087405, 'unix_end_time': 1666087415}\n",
      "075857_15Gb.bag\n",
      "{'start_time_s': 70, 'end_time_s': 75, 'unix_start_time': 1666094407, 'unix_end_time': 1666094412}\n",
      "092647_15Gb.bag\n",
      "{'start_time_s': 95, 'end_time_s': 103, 'unix_start_time': 1666099702, 'unix_end_time': 1666099710}\n",
      "{'start_time_s': 450, 'end_time_s': 465, 'unix_start_time': 1666100057, 'unix_end_time': 1666100072}\n"
     ]
    }
   ],
   "source": [
    "for rec_name in recs_pothole_times.keys():\n",
    "    print(rec_name)\n",
    "    for t in recs_pothole_times[rec_name]:\n",
    "        t['unix_start_time'] = init_times[rec_name] + t[\"start_time_s\"]\n",
    "        t['unix_end_time'] = init_times[rec_name] + t[\"end_time_s\"]\n",
    "        print(t)"
   ]
  },
  {
   "cell_type": "code",
   "execution_count": 8,
   "metadata": {},
   "outputs": [
    {
     "name": "stdout",
     "output_type": "stream",
     "text": [
      "060115_9Gb.bag\n",
      "rosbag filter 060115_9Gb.bag cropped/060115_9Gb_35.bag \"1666087310 < t.to_sec() <= 1666087320\" && \n",
      "rosbag filter 060115_9Gb.bag cropped/060115_9Gb_130.bag \"1666087405 < t.to_sec() <= 1666087415\" && \n",
      "075857_15Gb.bag\n",
      "rosbag filter 075857_15Gb.bag cropped/075857_15Gb_70.bag \"1666094407 < t.to_sec() <= 1666094412\" && \n",
      "092647_15Gb.bag\n",
      "rosbag filter 092647_15Gb.bag cropped/092647_15Gb_95.bag \"1666099702 < t.to_sec() <= 1666099710\" && \n",
      "rosbag filter 092647_15Gb.bag cropped/092647_15Gb_450.bag \"1666100057 < t.to_sec() <= 1666100072\" && \n"
     ]
    }
   ],
   "source": [
    "# rosbag filter 060115_9Gb.bag output.bag \"1666087310 < t.to_sec() <= 1666087320\"\n",
    "\n",
    "for rec_name in recs_pothole_times.keys():\n",
    "    print(rec_name)\n",
    "    for t in recs_pothole_times[rec_name]:\n",
    "        _outbag_name = f\"cropped/{rec_name[:-4]}_{t['start_time_s']}.bag\"\n",
    "        _t_start = t['unix_start_time']\n",
    "        _t_end = t['unix_end_time']\n",
    "        _cmd = f'rosbag filter {rec_name} {_outbag_name} \"{_t_start} < t.to_sec() <= {_t_end}\" && '\n",
    "        print(_cmd)\n"
   ]
  },
  {
   "cell_type": "code",
   "execution_count": 6,
   "metadata": {},
   "outputs": [
    {
     "data": {
      "text/plain": [
       "'092647_15Gb'"
      ]
     },
     "execution_count": 6,
     "metadata": {},
     "output_type": "execute_result"
    }
   ],
   "source": [
    "s = \"092647_15Gb.bag\"\n",
    "s[:-4]"
   ]
  }
 ],
 "metadata": {
  "kernelspec": {
   "display_name": "Python 3.8.10 64-bit",
   "language": "python",
   "name": "python3"
  },
  "language_info": {
   "codemirror_mode": {
    "name": "ipython",
    "version": 3
   },
   "file_extension": ".py",
   "mimetype": "text/x-python",
   "name": "python",
   "nbconvert_exporter": "python",
   "pygments_lexer": "ipython3",
   "version": "3.8.10"
  },
  "orig_nbformat": 4,
  "vscode": {
   "interpreter": {
    "hash": "e7370f93d1d0cde622a1f8e1c04877d8463912d04d973331ad4851f04de6915a"
   }
  }
 },
 "nbformat": 4,
 "nbformat_minor": 2
}
